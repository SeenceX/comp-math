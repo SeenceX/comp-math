{
 "cells": [
  {
   "cell_type": "markdown",
   "metadata": {},
   "source": [
    "<h1>Вычислительная математика. Лабораторная работа №2</h1>\n",
    "<h2>Интерполирование кубическим сплайном дефекта 1</h2>\n",
    "<p>Задаем число N и отрезок [a;b]</p>"
   ]
  },
  {
   "cell_type": "code",
   "execution_count": 21,
   "metadata": {
    "ExecuteTime": {
     "end_time": "2023-05-24T00:10:09.699436500Z",
     "start_time": "2023-05-24T00:10:09.653390Z"
    }
   },
   "outputs": [
    {
     "name": "stdout",
     "output_type": "stream",
     "text": [
      "       x   f(x)\n",
      "0  4.302  5.861\n",
      "1  4.381  6.212\n",
      "2  4.626  2.868\n",
      "3  4.886  2.647\n",
      "4  4.808  6.198\n",
      "5  4.872  3.499\n",
      "6  4.382  3.529\n",
      "7  4.181  6.511\n",
      "8  4.483  5.955\n",
      "9  4.418  4.185\n"
     ]
    }
   ],
   "source": [
    "import numpy as np\n",
    "import pandas as pd\n",
    "import matplotlib.pyplot as plt\n",
    "\n",
    "def f(x_):\n",
    "    return (N + 1) / (N + 2) * np.cos(2 * N / (3 + N) * x_)\n",
    "\n",
    "\n",
    "# определяем функцию для вычисления значения кубического сплайна\n",
    "def S(x_):\n",
    "    i = 0\n",
    "    while i < Lenght - 1 and x_ > x[i + 1]:\n",
    "        i += 1\n",
    "    if i == Lenght - 1:\n",
    "        i -= 1\n",
    "    t = x_ - x[i]\n",
    "    return y[i] + b[i] * t + c[i] * t ** 2 + d[i] * t ** 3\n",
    "\n",
    "\n",
    "a = 0\n",
    "b = 5\n",
    "n = 10\n",
    "h_ = (b-a)/n\n",
    "x = [a + i * h_ for i in range(n)]\n",
    "N = 6\n",
    "y = [f(xi) for xi in x]\n",
    "\n",
    "d = {'x': x, 'f(x)':y}\n",
    "df = pd.DataFrame(data=d)\n",
    "df.to_string(index=False)\n",
    "print(df)\n",
    "#x = [4.302, 4.381, 4.626, 4.886, 4.808, 4.872, 4.382, 4.181, 4.483, 4.418]\n",
    "#y = [5.861, 6.212, 2.868, 2.647, 6.198, 3.499, 3.529, 6.511, 5.955, 4.185]\n"
   ]
  },
  {
   "cell_type": "markdown",
   "metadata": {},
   "source": [
    "<p>Используем метод мартичной прогонки</p>"
   ]
  },
  {
   "cell_type": "code",
   "execution_count": 22,
   "metadata": {
    "ExecuteTime": {
     "end_time": "2023-05-24T00:10:09.705441800Z",
     "start_time": "2023-05-24T00:10:09.675410600Z"
    }
   },
   "outputs": [],
   "source": [
    "Lenght = len(x)\n",
    "\n",
    "# Сортируем значения x и y\n",
    "sorted_indices = np.argsort(x)\n",
    "x = [x[i] for i in sorted_indices]\n",
    "y = [y[i] for i in sorted_indices]\n",
    "N = 6\n",
    "\n",
    "h = np.zeros(Lenght - 1)\n",
    "alpha = np.zeros(Lenght - 1)\n",
    "FirstInterpolCoefficient = np.zeros(Lenght)\n",
    "SecondInterpolCoefficient = np.zeros(Lenght)\n",
    "ThirdInterpolCoefficient = np.zeros(Lenght)\n",
    "c = np.zeros(Lenght)\n",
    "b = np.zeros(Lenght - 1)\n",
    "d = np.zeros(Lenght - 1)\n",
    "\n",
    "for i in range(Lenght - 1):\n",
    "    h[i] = x[i + 1] - x[i]\n",
    "\n",
    "for i in range(1, Lenght - 1):\n",
    "    alpha[i] = (3 / h[i]) * (y[i + 1] - y[i]) - (3 / h[i - 1]) * (y[i] - y[i - 1])\n",
    "\n",
    "# Метод прогонки\n",
    "FirstInterpolCoefficient[0] = 1\n",
    "SecondInterpolCoefficient[0] = 0\n",
    "ThirdInterpolCoefficient[0] = 0\n",
    "\n",
    "for i in range(1, Lenght - 1):\n",
    "    FirstInterpolCoefficient[i] = 2 * (x[i + 1] - x[i - 1]) - h[i - 1] * SecondInterpolCoefficient[i - 1]\n",
    "    SecondInterpolCoefficient[i] = h[i] / FirstInterpolCoefficient[i]\n",
    "    ThirdInterpolCoefficient[i] = (alpha[i] - h[i - 1] * ThirdInterpolCoefficient[i - 1]) / FirstInterpolCoefficient[i]\n",
    "\n",
    "FirstInterpolCoefficient[Lenght - 1] = 1\n",
    "ThirdInterpolCoefficient[Lenght - 1] = 0\n",
    "c[Lenght - 1] = 0\n",
    "\n",
    "# обратный ход\n",
    "for j in range(Lenght - 2, -1, -1):\n",
    "    c[j] = ThirdInterpolCoefficient[j] - SecondInterpolCoefficient[j] * c[j + 1]\n",
    "    b[j] = (y[j + 1] - y[j]) / h[j] - h[j] * (c[j + 1] + 2 * c[j]) / 3\n",
    "    d[j] = (c[j + 1] - c[j]) / (3 * h[j])"
   ]
  },
  {
   "cell_type": "markdown",
   "metadata": {},
   "source": [
    "Выводим полученную матрицу"
   ]
  },
  {
   "cell_type": "code",
   "execution_count": 23,
   "metadata": {
    "ExecuteTime": {
     "end_time": "2023-05-24T00:10:09.706445300Z",
     "start_time": "2023-05-24T00:10:09.686420600Z"
    }
   },
   "outputs": [
    {
     "name": "stdout",
     "output_type": "stream",
     "text": [
      "Матрица:\n",
      "        col1   col2    col3       col4        col5       col6      col7     col8     col9    col10\n",
      "row1   1.000  0.000   0.000      0.000       0.000      0.000     0.000    0.000    0.000    0.000\n",
      "row2   0.198  0.400  73.612      0.000       0.000      0.000     0.000    0.000    0.000    0.000\n",
      "row3   0.000  0.007   0.144 -55874.544       0.000      0.000     0.000    0.000    0.000    0.000\n",
      "row4   0.000  0.000   0.487      0.074  110274.390      0.000     0.000    0.000    0.000    0.000\n",
      "row5   0.000  0.000   0.000      0.352       0.184 -21372.229     0.000    0.000    0.000    0.000\n",
      "row6   0.000  0.000   0.000      0.000       0.364      0.393  3161.398    0.000    0.000    0.000\n",
      "row7   0.000  0.000   0.000      0.000       0.000      0.304     0.598 -555.918    0.000    0.000\n",
      "row8   0.000  0.000   0.000      0.000       0.000      0.000     0.147    0.437 -183.755    0.000\n",
      "row9   0.000  0.000   0.000      0.000       0.000      0.000     0.000    0.095    0.147 -302.114\n",
      "row10  0.000  0.000   0.000      0.000       0.000      0.000     0.000    0.000    0.000    1.000\n"
     ]
    }
   ],
   "source": [
    "print(\"Матрица:\")\n",
    "\n",
    "# создаем диагональную матрицу\n",
    "diag = np.diag(np.round(FirstInterpolCoefficient, 3))\n",
    "\n",
    "# создаем матрицы с смещением от главной диагонали\n",
    "updiag = np.diagflat(np.round(ThirdInterpolCoefficient[:-1], 3), 1)\n",
    "downdiag = np.diagflat(np.round(SecondInterpolCoefficient[1:], 3), -1)\n",
    "\n",
    "# складываем все три матрицы\n",
    "matrix = diag + updiag + downdiag\n",
    "\n",
    "# создаем dataframe\n",
    "df = pd.DataFrame(matrix)\n",
    "\n",
    "# задаем имена столбцов и индексы строк\n",
    "df.columns = [f'col{i + 1}' for i in range(df.shape[1])]\n",
    "df.index = [f'row{i + 1}' for i in range(df.shape[0])]\n",
    "\n",
    "pd.set_option('display.max_columns', None)\n",
    "pd.set_option('display.width', 1000)\n",
    "# выводим dataframe\n",
    "print(df)"
   ]
  },
  {
   "cell_type": "markdown",
   "metadata": {},
   "source": [
    "<p>Выводим коэффициенты кубического сплайна</p>"
   ]
  },
  {
   "cell_type": "code",
   "execution_count": 24,
   "metadata": {
    "ExecuteTime": {
     "end_time": "2023-05-24T00:10:09.717453700Z",
     "start_time": "2023-05-24T00:10:09.703440600Z"
    }
   },
   "outputs": [
    {
     "name": "stdout",
     "output_type": "stream",
     "text": [
      "Коэффициенты кубического сплайна:\n",
      "S1(x) = 6.511 + -460.117(x - 4.181) + 0.0 (x - 4.181)^2 + 31059.696 (x - 4.181)^3 = 6.511\n",
      "S2(x) = 5.861 + 904.118(x - 4.302) + 11274.67 (x - 4.302)^2 + -286872.938 (x - 4.302)^3 = 5.861000000000004\n",
      "S3(x) = 6.212 + -2685.606(x - 4.381) + -56714.217 (x - 4.381)^2 + 59320276.724 (x - 4.381)^3 = 6.211999999999989\n",
      "S4(x) = 3.529 + -2621.074(x - 4.382) + 121246.614 (x - 4.382)^2 + -1331467.752 (x - 4.382)^3 = 3.5289999999999995\n",
      "S5(x) = 4.185 + 931.936(x - 4.418) + -22551.904 (x - 4.418)^2 + 132820.97 (x - 4.418)^3 = 4.185000000000009\n",
      "S6(x) = 5.955 + -316.306(x - 4.483) + 3348.186 (x - 4.483)^2 + -9001.525 (x - 4.483)^3 = 5.954999999999991\n",
      "S7(x) = 2.868 + 89.059(x - 4.626) + -513.469 (x - 4.626)^2 + 684.98 (x - 4.626)^3 = 2.868000000000009\n",
      "S8(x) = 6.198 + -29.776(x - 4.808) + -139.47 (x - 4.808)^2 + -847.104 (x - 4.808)^3 = 6.198000000000003\n",
      "S9(x) = 3.499 + -58.037(x - 4.872) + -302.114 (x - 4.872)^2 + 7193.183 (x - 4.872)^3 = 3.499\n"
     ]
    }
   ],
   "source": [
    "print(\"Коэффициенты кубического сплайна:\")\n",
    "for i in range(Lenght - 1):\n",
    "    print(\n",
    "        f\"S{i + 1}(x) = {round(y[i], 3)} + {round(b[i], 3)}(x - {round(x[i], 3)}) + {round(c[i], 3)} (x - {round(x[i], 3)})^2 + {round(d[i], 3)} (x - {round(x[i], 3)})^3 = {S(x[i])}\")\n"
   ]
  },
  {
   "cell_type": "markdown",
   "metadata": {},
   "source": [
    "<p>Строим график</p>"
   ]
  },
  {
   "cell_type": "code",
   "execution_count": 25,
   "metadata": {
    "ExecuteTime": {
     "end_time": "2023-05-24T00:10:09.860596600Z",
     "start_time": "2023-05-24T00:10:09.720455400Z"
    }
   },
   "outputs": [
    {
     "data": {
      "text/plain": "<Figure size 640x480 with 1 Axes>",
      "image/png": "[encoded data removed]"
     },
     "metadata": {},
     "output_type": "display_data"
    }
   ],
   "source": [
    "# задаем интервал для построения графика\n",
    "xmin, xmax = min(x), max(x)\n",
    "step = (xmax - xmin) / 1000\n",
    "x_vals = np.arange(xmin, xmax + step, step)\n",
    "\n",
    "# строим график точек и кубического сплайна\n",
    "plt.scatter(x, y, color='red', label='Заданные точки')\n",
    "plt.plot(x_vals, [S(x) for x in x_vals], label='Кубический сплайн')\n",
    "x1 = np.linspace(min(x), max(x), 1000)\n",
    "y1 = [f(xi) for xi in x1]\n",
    "plt.plot(x1, y1, label='f(x)')\n",
    "# добавляем легенду и подписи осей\n",
    "plt.legend()\n",
    "plt.xlabel('x')\n",
    "plt.ylabel('y')\n",
    "\n",
    "# выводим график\n",
    "plt.show()"
   ]
  },
  {
   "cell_type": "markdown",
   "metadata": {},
   "source": [
    "<p>Отсюда можно сделать вывод, что погрешность в узлах интерполяции равна 0</p>"
   ]
  },
  {
   "cell_type": "markdown",
   "metadata": {},
   "source": [
    "<p>В лабораторной работе №2 был рассмотрен и применен метод интерполяции кубическим сплайном и написана программа для данного метода на языке Python. Получен график и сделан вывод.</p>"
   ]
  },
  {
   "cell_type": "code",
   "execution_count": 25,
   "metadata": {
    "ExecuteTime": {
     "end_time": "2023-05-24T00:10:09.885622200Z",
     "start_time": "2023-05-24T00:10:09.861597500Z"
    }
   },
   "outputs": [],
   "source": []
  }
 ],
 "metadata": {
  "kernelspec": {
   "display_name": "Python 3 (ipykernel)",
   "language": "python",
   "name": "python3"
  },
  "language_info": {
   "codemirror_mode": {
    "name": "ipython",
    "version": 3
   },
   "file_extension": ".py",
   "mimetype": "text/x-python",
   "name": "python",
   "nbconvert_exporter": "python",
   "pygments_lexer": "ipython3",
   "version": "3.9.13"
  }
 },
 "nbformat": 4,
 "nbformat_minor": 1
}
