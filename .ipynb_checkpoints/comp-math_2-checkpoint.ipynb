{
 "cells": [
  {
   "cell_type": "markdown",
   "metadata": {},
   "source": [
    "<h1>Вычислительная математика. Лабораторная работа №2</h1>\n",
    "<h2>Интерполирование кубическим сплайном дефекта 1</h2>\n",
    "<p>Задаем число N и отрезок [a;b]</p>"
   ]
  },
  {
   "cell_type": "code",
   "execution_count": 1,
   "metadata": {
    "ExecuteTime": {
     "end_time": "2023-05-23T23:58:15.760742500Z",
     "start_time": "2023-05-23T23:58:15.134458700Z"
    }
   },
   "outputs": [
    {
     "name": "stdout",
     "output_type": "stream",
     "text": [
      "     x      f(x)\n",
      "0  0.0  0.875000\n",
      "1  0.5  0.687651\n",
      "2  1.0  0.205833\n",
      "3  1.5 -0.364128\n",
      "4  2.0 -0.778161\n",
      "5  2.5 -0.858965\n",
      "6  3.0 -0.571938\n",
      "7  3.5 -0.039993\n",
      "8  4.0  0.509078\n",
      "9  4.5  0.840149\n"
     ]
    }
   ],
   "source": [
    "import numpy as np\n",
    "import pandas as pd\n",
    "import matplotlib.pyplot as plt\n",
    "\n",
    "def f(x_):\n",
    "    return (N + 1) / (N + 2) * np.cos(2 * N / (3 + N) * x_)\n",
    "\n",
    "\n",
    "# определяем функцию для вычисления значения кубического сплайна\n",
    "def S(x_):\n",
    "    i = 0\n",
    "    while i < Lenght - 1 and x_ > x[i + 1]:\n",
    "        i += 1\n",
    "    if i == Lenght - 1:\n",
    "        i -= 1\n",
    "    t = x_ - x[i]\n",
    "    return y[i] + b[i] * t + c[i] * t ** 2 + d[i] * t ** 3\n",
    "\n",
    "\n",
    "a = 0\n",
    "b = 5\n",
    "n = 10\n",
    "h_ = (b-a)/n\n",
    "x = [a + i * h_ for i in range(n)]\n",
    "N = 6\n",
    "y = [f(xi) for xi in x]\n",
    "\n",
    "d = {'x': x, 'f(x)':y}\n",
    "df = pd.DataFrame(data=d)\n",
    "df.to_string(index=False)\n",
    "print(df)\n",
    "#x = [4.302, 4.381, 4.626, 4.886, 4.808, 4.872, 4.382, 4.181, 4.483, 4.418]\n",
    "#y = [5.861, 6.212, 2.868, 2.647, 6.198, 3.499, 3.529, 6.511, 5.955, 4.185]\n"
   ]
  },
  {
   "cell_type": "markdown",
   "metadata": {},
   "source": [
    "<p>Используем метод мартичной прогонки</p>"
   ]
  },
  {
   "cell_type": "code",
   "execution_count": 2,
   "metadata": {
    "ExecuteTime": {
     "end_time": "2023-05-23T23:58:15.775753Z",
     "start_time": "2023-05-23T23:58:15.763744100Z"
    }
   },
   "outputs": [],
   "source": [
    "Lenght = len(x)\n",
    "\n",
    "# Сортируем значения x и y\n",
    "sorted_indices = np.argsort(x)\n",
    "x = [x[i] for i in sorted_indices]\n",
    "y = [y[i] for i in sorted_indices]\n",
    "N = 6\n",
    "\n",
    "h = np.zeros(Lenght - 1)\n",
    "alpha = np.zeros(Lenght - 1)\n",
    "FirstInterpolCoefficient = np.zeros(Lenght)\n",
    "SecondInterpolCoefficient = np.zeros(Lenght)\n",
    "ThirdInterpolCoefficient = np.zeros(Lenght)\n",
    "c = np.zeros(Lenght)\n",
    "b = np.zeros(Lenght - 1)\n",
    "d = np.zeros(Lenght - 1)\n",
    "\n",
    "for i in range(Lenght - 1):\n",
    "    h[i] = x[i + 1] - x[i]\n",
    "\n",
    "for i in range(1, Lenght - 1):\n",
    "    alpha[i] = (3 / h[i]) * (y[i + 1] - y[i]) - (3 / h[i - 1]) * (y[i] - y[i - 1])\n",
    "\n",
    "# Метод прогонки\n",
    "FirstInterpolCoefficient[0] = 1\n",
    "SecondInterpolCoefficient[0] = 0\n",
    "ThirdInterpolCoefficient[0] = 0\n",
    "\n",
    "for i in range(1, Lenght - 1):\n",
    "    FirstInterpolCoefficient[i] = 2 * (x[i + 1] - x[i - 1]) - h[i - 1] * SecondInterpolCoefficient[i - 1]\n",
    "    SecondInterpolCoefficient[i] = h[i] / FirstInterpolCoefficient[i]\n",
    "    ThirdInterpolCoefficient[i] = (alpha[i] - h[i - 1] * ThirdInterpolCoefficient[i - 1]) / FirstInterpolCoefficient[i]\n",
    "\n",
    "FirstInterpolCoefficient[Lenght - 1] = 1\n",
    "ThirdInterpolCoefficient[Lenght - 1] = 0\n",
    "c[Lenght - 1] = 0\n",
    "\n",
    "# обратный ход\n",
    "for j in range(Lenght - 2, -1, -1):\n",
    "    c[j] = ThirdInterpolCoefficient[j] - SecondInterpolCoefficient[j] * c[j + 1]\n",
    "    b[j] = (y[j + 1] - y[j]) / h[j] - h[j] * (c[j + 1] + 2 * c[j]) / 3\n",
    "    d[j] = (c[j + 1] - c[j]) / (3 * h[j])"
   ]
  },
  {
   "cell_type": "markdown",
   "metadata": {},
   "source": [
    "Выводим полученную матрицу"
   ]
  },
  {
   "cell_type": "code",
   "execution_count": 3,
   "metadata": {
    "ExecuteTime": {
     "end_time": "2023-05-23T23:58:15.879666600Z",
     "start_time": "2023-05-23T23:58:15.773752300Z"
    }
   },
   "outputs": [
    {
     "name": "stdout",
     "output_type": "stream",
     "text": [
      "Матрица:\n",
      "       col1   col2   col3   col4   col5   col6   col7   col8   col9  col10\n",
      "row1   1.00  0.000  0.000  0.000  0.000  0.000  0.000  0.000  0.000  0.000\n",
      "row2   0.25  2.000 -0.883  0.000  0.000  0.000  0.000  0.000  0.000  0.000\n",
      "row3   0.00  0.267  1.875 -0.046  0.000  0.000  0.000  0.000  0.000  0.000\n",
      "row4   0.00  0.000  0.268  1.867  0.514  0.000  0.000  0.000  0.000  0.000\n",
      "row5   0.00  0.000  0.000  0.268  1.866  0.934  0.000  0.000  0.000  0.000\n",
      "row6   0.00  0.000  0.000  0.000  0.268  1.866  0.933  0.000  0.000  0.000\n",
      "row7   0.00  0.000  0.000  0.000  0.000  0.268  1.866  0.538  0.000  0.000\n",
      "row8   0.00  0.000  0.000  0.000  0.000  0.000  0.268  1.866 -0.089  0.000\n",
      "row9   0.00  0.000  0.000  0.000  0.000  0.000  0.000  0.268  1.866 -0.677\n",
      "row10  0.00  0.000  0.000  0.000  0.000  0.000  0.000  0.000  0.000  1.000\n"
     ]
    }
   ],
   "source": [
    "print(\"Матрица:\")\n",
    "\n",
    "# создаем диагональную матрицу\n",
    "diag = np.diag(np.round(FirstInterpolCoefficient, 3))\n",
    "\n",
    "# создаем матрицы с смещением от главной диагонали\n",
    "updiag = np.diagflat(np.round(ThirdInterpolCoefficient[:-1], 3), 1)\n",
    "downdiag = np.diagflat(np.round(SecondInterpolCoefficient[1:], 3), -1)\n",
    "\n",
    "# складываем все три матрицы\n",
    "matrix = diag + updiag + downdiag\n",
    "\n",
    "# создаем dataframe\n",
    "df = pd.DataFrame(matrix)\n",
    "\n",
    "# задаем имена столбцов и индексы строк\n",
    "df.columns = [f'col{i + 1}' for i in range(df.shape[1])]\n",
    "df.index = [f'row{i + 1}' for i in range(df.shape[0])]\n",
    "\n",
    "pd.set_option('display.max_columns', None)\n",
    "pd.set_option('display.width', 1000)\n",
    "# выводим dataframe\n",
    "print(df)"
   ]
  },
  {
   "cell_type": "markdown",
   "metadata": {},
   "source": [
    "<p>Выводим коэффициенты кубического сплайна</p>"
   ]
  },
  {
   "cell_type": "code",
   "execution_count": 4,
   "metadata": {
    "ExecuteTime": {
     "end_time": "2023-05-23T23:58:15.890675Z",
     "start_time": "2023-05-23T23:58:15.788764200Z"
    }
   },
   "outputs": [
    {
     "name": "stdout",
     "output_type": "stream",
     "text": [
      "Коэффициенты кубического сплайна:\n",
      "S1(x) = 0.875 + -0.233(x - 0.0) + 0.0 (x - 0.0)^2 + -0.567 (x - 0.0)^3 = 0.875\n",
      "S2(x) = 0.688 + -0.658(x - 0.5) + -0.85 (x - 0.5)^2 + 0.479 (x - 0.5)^3 = 0.6876513531798295\n",
      "S3(x) = 0.206 + -1.149(x - 1.0) + -0.132 (x - 1.0)^2 + 0.302 (x - 1.0)^3 = 0.2058328766401157\n",
      "S4(x) = -0.364 + -1.055(x - 1.5) + 0.321 (x - 1.5)^2 + 0.267 (x - 1.5)^3 = -0.3641284819787496\n",
      "S5(x) = -0.778 + -0.534(x - 2.0) + 0.721 (x - 2.0)^2 + 0.05 (x - 2.0)^3 = -0.7781607471864113\n",
      "S6(x) = -0.859 + 0.224(x - 2.5) + 0.795 (x - 2.5)^2 + -0.188 (x - 2.5)^3 = -0.8589647541221943\n",
      "S7(x) = -0.572 + 0.878(x - 3.0) + 0.513 (x - 3.0)^2 + -0.28 (x - 3.0)^3 = -0.5719381682556605\n",
      "S8(x) = -0.04 + 1.18(x - 3.5) + 0.092 (x - 3.5)^2 + -0.513 (x - 3.5)^3 = -0.03999308664625866\n",
      "S9(x) = 0.509 + 0.888(x - 4.0) + -0.677 (x - 4.0)^2 + 0.451 (x - 4.0)^3 = 0.5090780536267743\n"
     ]
    }
   ],
   "source": [
    "print(\"Коэффициенты кубического сплайна:\")\n",
    "for i in range(Lenght - 1):\n",
    "    print(\n",
    "        f\"S{i + 1}(x) = {round(y[i], 3)} + {round(b[i], 3)}(x - {round(x[i], 3)}) + {round(c[i], 3)} (x - {round(x[i], 3)})^2 + {round(d[i], 3)} (x - {round(x[i], 3)})^3 = {S(x[i])}\")\n"
   ]
  },
  {
   "cell_type": "markdown",
   "metadata": {},
   "source": [
    "<p>Строим график</p>"
   ]
  },
  {
   "cell_type": "code",
   "execution_count": 5,
   "metadata": {
    "ExecuteTime": {
     "end_time": "2023-05-23T23:58:16.060376100Z",
     "start_time": "2023-05-23T23:58:15.802089400Z"
    }
   },
   "outputs": [
    {
     "data": {
      "image/png": "[encoded data removed]",
      "text/plain": [
       "<Figure size 640x480 with 1 Axes>"
      ]
     },
     "metadata": {},
     "output_type": "display_data"
    }
   ],
   "source": [
    "# задаем интервал для построения графика\n",
    "xmin, xmax = min(x), max(x)\n",
    "step = (xmax - xmin) / 1000\n",
    "x_vals = np.arange(xmin, xmax + step, step)\n",
    "\n",
    "# строим график точек и кубического сплайна\n",
    "plt.scatter(x, y, color='red', label='Заданные точки')\n",
    "plt.plot(x_vals, [S(x) for x in x_vals], label='Кубический сплайн')\n",
    "plt.plot(x, y, label='f(x)')\n",
    "# добавляем легенду и подписи осей\n",
    "plt.legend()\n",
    "plt.xlabel('x')\n",
    "plt.ylabel('y')\n",
    "\n",
    "# выводим график\n",
    "plt.show()"
   ]
  },
  {
   "cell_type": "markdown",
   "metadata": {},
   "source": [
    "<p>Отсюда можно сделать вывод, что погрешность в узлах интерполяции равна 0</p>"
   ]
  },
  {
   "cell_type": "markdown",
   "metadata": {},
   "source": [
    "<p>В лабораторной работе №2 был рассмотрен и применен метод интерполяции кубическим сплайном и написана программа для данного метода на языке Python. Получен график и сделан вывод.</p>"
   ]
  },
  {
   "cell_type": "code",
   "execution_count": null,
   "metadata": {},
   "outputs": [],
   "source": []
  }
 ],
 "metadata": {
  "kernelspec": {
   "display_name": "Python 3 (ipykernel)",
   "language": "python",
   "name": "python3"
  },
  "language_info": {
   "codemirror_mode": {
    "name": "ipython",
    "version": 3
   },
   "file_extension": ".py",
   "mimetype": "text/x-python",
   "name": "python",
   "nbconvert_exporter": "python",
   "pygments_lexer": "ipython3",
   "version": "3.9.13"
  }
 },
 "nbformat": 4,
 "nbformat_minor": 1
}
